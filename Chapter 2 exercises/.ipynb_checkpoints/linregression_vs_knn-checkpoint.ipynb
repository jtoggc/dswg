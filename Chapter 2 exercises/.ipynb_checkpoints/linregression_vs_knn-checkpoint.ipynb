{
 "cells": [
  {
   "cell_type": "markdown",
   "metadata": {},
   "source": [
    "### This is my notebook for the exercise 2.7 (first edition) of ESM\n",
    "\n",
    "This exercise involves comparing classification performance of K-Nearest Neighbors vs Linear Regression for the *zipcode* dataset that will be explored. "
   ]
  },
  {
   "cell_type": "code",
   "execution_count": 1,
   "metadata": {},
   "outputs": [],
   "source": [
    "#standard imports\n",
    "import pandas as pd\n",
    "import numpy as np\n",
    "import matplotlib.pyplot as plt\n",
    "import seaborn as sns\n",
    "\n",
    "%matplotlib inline"
   ]
  },
  {
   "cell_type": "code",
   "execution_count": 3,
   "metadata": {},
   "outputs": [],
   "source": [
    "#get the dataset\n",
    "import requests\n",
    "import io\n",
    "\n",
    "#grab the url content and read into pandas with the IO reader\n",
    "two_digit_train_url = 'https://web.stanford.edu/~hastie/ElemStatLearn/datasets/zip.digits/train.2'\n",
    "f = requests.get(two_digit_train_url).content\n",
    "\n",
    "two_digit_train = pd.read_csv(io.StringIO(f.decode('utf-8')))"
   ]
  },
  {
   "cell_type": "code",
   "execution_count": 4,
   "metadata": {},
   "outputs": [
    {
     "data": {
      "text/html": [
       "<div>\n",
       "<style scoped>\n",
       "    .dataframe tbody tr th:only-of-type {\n",
       "        vertical-align: middle;\n",
       "    }\n",
       "\n",
       "    .dataframe tbody tr th {\n",
       "        vertical-align: top;\n",
       "    }\n",
       "\n",
       "    .dataframe thead th {\n",
       "        text-align: right;\n",
       "    }\n",
       "</style>\n",
       "<table border=\"1\" class=\"dataframe\">\n",
       "  <thead>\n",
       "    <tr style=\"text-align: right;\">\n",
       "      <th></th>\n",
       "      <th>-1</th>\n",
       "      <th>-1.1</th>\n",
       "      <th>-1.2</th>\n",
       "      <th>-1.3</th>\n",
       "      <th>-1.4</th>\n",
       "      <th>-0.798</th>\n",
       "      <th>0.3</th>\n",
       "      <th>0.432</th>\n",
       "      <th>-0.799</th>\n",
       "      <th>-1.5</th>\n",
       "      <th>...</th>\n",
       "      <th>-0.947</th>\n",
       "      <th>-0.524</th>\n",
       "      <th>0.307</th>\n",
       "      <th>0.39</th>\n",
       "      <th>0.852</th>\n",
       "      <th>0.751</th>\n",
       "      <th>0.99.1</th>\n",
       "      <th>0.567</th>\n",
       "      <th>-0.664</th>\n",
       "      <th>-1.132</th>\n",
       "    </tr>\n",
       "  </thead>\n",
       "  <tbody>\n",
       "    <tr>\n",
       "      <th>0</th>\n",
       "      <td>-1.0</td>\n",
       "      <td>-1.0</td>\n",
       "      <td>-1.0</td>\n",
       "      <td>-1.0</td>\n",
       "      <td>-1.000</td>\n",
       "      <td>-0.638</td>\n",
       "      <td>0.222</td>\n",
       "      <td>0.706</td>\n",
       "      <td>1.000</td>\n",
       "      <td>0.731</td>\n",
       "      <td>...</td>\n",
       "      <td>-0.576</td>\n",
       "      <td>0.635</td>\n",
       "      <td>0.755</td>\n",
       "      <td>0.549</td>\n",
       "      <td>0.273</td>\n",
       "      <td>0.074</td>\n",
       "      <td>-0.083</td>\n",
       "      <td>-1.000</td>\n",
       "      <td>-1.000</td>\n",
       "      <td>-1.0</td>\n",
       "    </tr>\n",
       "    <tr>\n",
       "      <th>1</th>\n",
       "      <td>-1.0</td>\n",
       "      <td>-1.0</td>\n",
       "      <td>-1.0</td>\n",
       "      <td>-1.0</td>\n",
       "      <td>-1.000</td>\n",
       "      <td>-1.000</td>\n",
       "      <td>-1.000</td>\n",
       "      <td>-1.000</td>\n",
       "      <td>-1.000</td>\n",
       "      <td>-1.000</td>\n",
       "      <td>...</td>\n",
       "      <td>-1.000</td>\n",
       "      <td>-1.000</td>\n",
       "      <td>-1.000</td>\n",
       "      <td>-1.000</td>\n",
       "      <td>-1.000</td>\n",
       "      <td>-1.000</td>\n",
       "      <td>-1.000</td>\n",
       "      <td>-1.000</td>\n",
       "      <td>-1.000</td>\n",
       "      <td>-1.0</td>\n",
       "    </tr>\n",
       "    <tr>\n",
       "      <th>2</th>\n",
       "      <td>-1.0</td>\n",
       "      <td>-1.0</td>\n",
       "      <td>-1.0</td>\n",
       "      <td>-1.0</td>\n",
       "      <td>-1.000</td>\n",
       "      <td>-1.000</td>\n",
       "      <td>-1.000</td>\n",
       "      <td>-1.000</td>\n",
       "      <td>-1.000</td>\n",
       "      <td>-1.000</td>\n",
       "      <td>...</td>\n",
       "      <td>-1.000</td>\n",
       "      <td>-1.000</td>\n",
       "      <td>-1.000</td>\n",
       "      <td>-1.000</td>\n",
       "      <td>-1.000</td>\n",
       "      <td>-1.000</td>\n",
       "      <td>-1.000</td>\n",
       "      <td>-1.000</td>\n",
       "      <td>-1.000</td>\n",
       "      <td>-1.0</td>\n",
       "    </tr>\n",
       "    <tr>\n",
       "      <th>3</th>\n",
       "      <td>-1.0</td>\n",
       "      <td>-1.0</td>\n",
       "      <td>-1.0</td>\n",
       "      <td>-1.0</td>\n",
       "      <td>-1.000</td>\n",
       "      <td>-1.000</td>\n",
       "      <td>-1.000</td>\n",
       "      <td>-1.000</td>\n",
       "      <td>-1.000</td>\n",
       "      <td>-1.000</td>\n",
       "      <td>...</td>\n",
       "      <td>-1.000</td>\n",
       "      <td>-1.000</td>\n",
       "      <td>-1.000</td>\n",
       "      <td>-1.000</td>\n",
       "      <td>-1.000</td>\n",
       "      <td>-1.000</td>\n",
       "      <td>-1.000</td>\n",
       "      <td>-1.000</td>\n",
       "      <td>-1.000</td>\n",
       "      <td>-1.0</td>\n",
       "    </tr>\n",
       "    <tr>\n",
       "      <th>4</th>\n",
       "      <td>-1.0</td>\n",
       "      <td>-1.0</td>\n",
       "      <td>-1.0</td>\n",
       "      <td>-1.0</td>\n",
       "      <td>-0.772</td>\n",
       "      <td>0.463</td>\n",
       "      <td>0.200</td>\n",
       "      <td>0.750</td>\n",
       "      <td>-0.276</td>\n",
       "      <td>-1.000</td>\n",
       "      <td>...</td>\n",
       "      <td>-1.000</td>\n",
       "      <td>-1.000</td>\n",
       "      <td>-1.000</td>\n",
       "      <td>-1.000</td>\n",
       "      <td>-1.000</td>\n",
       "      <td>-0.843</td>\n",
       "      <td>0.322</td>\n",
       "      <td>0.814</td>\n",
       "      <td>-0.588</td>\n",
       "      <td>-1.0</td>\n",
       "    </tr>\n",
       "  </tbody>\n",
       "</table>\n",
       "<p>5 rows × 256 columns</p>\n",
       "</div>"
      ],
      "text/plain": [
       "    -1  -1.1  -1.2  -1.3   -1.4  -0.798    0.3  0.432  -0.799   -1.5  ...  \\\n",
       "0 -1.0  -1.0  -1.0  -1.0 -1.000  -0.638  0.222  0.706   1.000  0.731  ...   \n",
       "1 -1.0  -1.0  -1.0  -1.0 -1.000  -1.000 -1.000 -1.000  -1.000 -1.000  ...   \n",
       "2 -1.0  -1.0  -1.0  -1.0 -1.000  -1.000 -1.000 -1.000  -1.000 -1.000  ...   \n",
       "3 -1.0  -1.0  -1.0  -1.0 -1.000  -1.000 -1.000 -1.000  -1.000 -1.000  ...   \n",
       "4 -1.0  -1.0  -1.0  -1.0 -0.772   0.463  0.200  0.750  -0.276 -1.000  ...   \n",
       "\n",
       "   -0.947  -0.524  0.307   0.39  0.852  0.751  0.99.1  0.567  -0.664  -1.132  \n",
       "0  -0.576   0.635  0.755  0.549  0.273  0.074  -0.083 -1.000  -1.000    -1.0  \n",
       "1  -1.000  -1.000 -1.000 -1.000 -1.000 -1.000  -1.000 -1.000  -1.000    -1.0  \n",
       "2  -1.000  -1.000 -1.000 -1.000 -1.000 -1.000  -1.000 -1.000  -1.000    -1.0  \n",
       "3  -1.000  -1.000 -1.000 -1.000 -1.000 -1.000  -1.000 -1.000  -1.000    -1.0  \n",
       "4  -1.000  -1.000 -1.000 -1.000 -1.000 -0.843   0.322  0.814  -0.588    -1.0  \n",
       "\n",
       "[5 rows x 256 columns]"
      ]
     },
     "execution_count": 4,
     "metadata": {},
     "output_type": "execute_result"
    }
   ],
   "source": [
    "#check out the data\n",
    "two_digit_train.head()"
   ]
  },
  {
   "cell_type": "code",
   "execution_count": 5,
   "metadata": {},
   "outputs": [
    {
     "name": "stdout",
     "output_type": "stream",
     "text": [
      "<class 'pandas.core.frame.DataFrame'>\n",
      "RangeIndex: 730 entries, 0 to 729\n",
      "Columns: 256 entries, -1 to -1.132\n",
      "dtypes: float64(254), int64(2)\n",
      "memory usage: 1.4 MB\n"
     ]
    }
   ],
   "source": [
    "two_digit_train.info()"
   ]
  },
  {
   "cell_type": "code",
   "execution_count": 6,
   "metadata": {},
   "outputs": [],
   "source": [
    "#also grab the three; want to eventually merge wtih the two data for the classification problem of 2 vs 3\n",
    "three_digit_train_url = 'https://web.stanford.edu/~hastie/ElemStatLearn/datasets/zip.digits/train.3'\n",
    "f = requests.get(three_digit_train_url).content\n",
    "\n",
    "three_digit_train = pd.read_csv(io.StringIO(f.decode('utf-8')))"
   ]
  },
  {
   "cell_type": "code",
   "execution_count": 8,
   "metadata": {},
   "outputs": [],
   "source": [
    "#append training labels to each\n",
    "two_digit_train['digit'] = ['2']*len(two_digit_train)\n",
    "three_digit_train['digit'] = ['3']*len(three_digit_train)"
   ]
  },
  {
   "cell_type": "code",
   "execution_count": 9,
   "metadata": {},
   "outputs": [
    {
     "name": "stderr",
     "output_type": "stream",
     "text": [
      "C:\\Users\\600192\\AppData\\Local\\Continuum\\anaconda3\\lib\\site-packages\\pandas\\core\\frame.py:6692: FutureWarning: Sorting because non-concatenation axis is not aligned. A future version\n",
      "of pandas will change to not sort by default.\n",
      "\n",
      "To accept the future behavior, pass 'sort=False'.\n",
      "\n",
      "To retain the current behavior and silence the warning, pass 'sort=True'.\n",
      "\n",
      "  sort=sort)\n"
     ]
    }
   ],
   "source": [
    "#combine and shuffle\n",
    "train = two_digit_train.append(three_digit_train)\n",
    "train = train.sample(frac=1).reset_index(drop=True)"
   ]
  },
  {
   "cell_type": "code",
   "execution_count": 12,
   "metadata": {},
   "outputs": [
    {
     "data": {
      "text/plain": [
       "2    730\n",
       "3    657\n",
       "Name: digit, dtype: int64"
      ]
     },
     "execution_count": 12,
     "metadata": {},
     "output_type": "execute_result"
    }
   ],
   "source": [
    "train['digit'].value_counts()"
   ]
  },
  {
   "cell_type": "code",
   "execution_count": 32,
   "metadata": {},
   "outputs": [],
   "source": [
    "#also grab the test set and merge together in a similar way\n",
    "test = pd.read_csv('C:/Users/600192/Downloads/zip.test.gz',compression='gzip',sep=' ')"
   ]
  },
  {
   "cell_type": "code",
   "execution_count": 40,
   "metadata": {},
   "outputs": [
    {
     "data": {
      "text/plain": [
       "0    359\n",
       "1    264\n",
       "4    200\n",
       "2    198\n",
       "9    176\n",
       "6    170\n",
       "8    166\n",
       "3    166\n",
       "5    160\n",
       "7    147\n",
       "Name: 9, dtype: int64"
      ]
     },
     "execution_count": 40,
     "metadata": {},
     "output_type": "execute_result"
    }
   ],
   "source": [
    "test['9'].value_counts()"
   ]
  },
  {
   "cell_type": "code",
   "execution_count": 42,
   "metadata": {},
   "outputs": [],
   "source": [
    "test['digit'] = test['9']\n",
    "test.drop(columns=['9'],inplace=True)"
   ]
  },
  {
   "cell_type": "code",
   "execution_count": null,
   "metadata": {},
   "outputs": [],
   "source": []
  }
 ],
 "metadata": {
  "kernelspec": {
   "display_name": "Python 3",
   "language": "python",
   "name": "python3"
  },
  "language_info": {
   "codemirror_mode": {
    "name": "ipython",
    "version": 3
   },
   "file_extension": ".py",
   "mimetype": "text/x-python",
   "name": "python",
   "nbconvert_exporter": "python",
   "pygments_lexer": "ipython3",
   "version": "3.7.3"
  }
 },
 "nbformat": 4,
 "nbformat_minor": 2
}
